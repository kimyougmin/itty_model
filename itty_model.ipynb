{
  "cells": [
    {
      "cell_type": "markdown",
      "metadata": {
        "id": "view-in-github",
        "colab_type": "text"
      },
      "source": [
        "<a href=\"https://colab.research.google.com/github/kimyougmin/itty_model/blob/main/itty_model.ipynb\" target=\"_parent\"><img src=\"https://colab.research.google.com/assets/colab-badge.svg\" alt=\"Open In Colab\"/></a>"
      ]
    },
    {
      "cell_type": "markdown",
      "metadata": {
        "id": "Wf5KrEb6vrkR"
      },
      "source": [
        "<div class=\"markdown-google-sans\">\n",
        "  <h1>itty model</h1>\n",
        "</div>\n",
        "\n",
        "<div class=\"markdown-google-sans\">\n",
        "  <h2>LLaMa 2를 이용한 모델</h2>\n",
        "  <ul>\n",
        "  <li><a href=\"https://github.com/meta-llama/llama\">https://github.com/meta-llama/llama</a></li>\n",
        "</div>\n"
      ]
    },
    {
      "cell_type": "markdown",
      "source": [
        "# 새 섹션"
      ],
      "metadata": {
        "id": "EeJLCy8Z6Gcs"
      }
    },
    {
      "cell_type": "code",
      "source": [
        "# 코랩 환경에서 실행할 경우 필수 패키지 설치\n",
        "!pip install transformers datasets accelerate -q\n",
        "!pip install bitsandbytes -q  # Low-Rank Adaptation (LoRA)와 8-bit optimizer를 사용할 때 필요\n",
        "\n",
        "# 필요한 라이브러리 임포트\n",
        "import torch\n",
        "from transformers import AutoModelForCausalLM, AutoTokenizer, TrainingArguments, Trainer\n",
        "from datasets import load_dataset\n",
        "\n",
        "\n",
        "# 모델과 토크나이저 불러오기 (Hugging Face Hub 사용)\n",
        "MODEL_NAME = \"meta-llama/Llama-2-7b-hf\"  # LLaMA 2 7B 모델 예시\n",
        "tokenizer = AutoTokenizer.from_pretrained(MODEL_NAME)\n",
        "model = AutoModelForCausalLM.from_pretrained(\n",
        "    MODEL_NAME,\n",
        "    device_map=\"auto\",  # 모델을 자동으로 GPU에 매핑\n",
        "    load_in_8bit=True,  # 8-bit precision (옵션)\n",
        "    torch_dtype=torch.float16,  # Half precision\n",
        ")\n"
      ],
      "metadata": {
        "id": "EHXAlQKq6Jxk"
      },
      "execution_count": null,
      "outputs": []
    }
  ],
  "metadata": {
    "colab": {
      "toc_visible": true,
      "provenance": [],
      "include_colab_link": true
    },
    "kernelspec": {
      "display_name": "Python 3",
      "name": "python3"
    }
  },
  "nbformat": 4,
  "nbformat_minor": 0
}